{
 "cells": [
  {
   "cell_type": "code",
   "execution_count": null,
   "metadata": {},
   "outputs": [],
   "source": [
    "# ===== Cell 1: Clone your GitHub repository =====\n",
    "# Replace 'Samson-Abebe' with your GitHub username if needed\n",
    "!git clone https://github.com/Samson-Abebe/colab-hello-world.git\n",
    "%cd colab-hello-world"
   ]
  },
  {
   "cell_type": "code",
   "execution_count": null,
   "metadata": {},
   "outputs": [],
   "source": [
    "# ===== Cell 2: Run your Python script =====\n",
    "# Make sure 'hello.py' exists in your repository\n",
    "!python hello.py"
   ]
  }
 ],
 "metadata": {
  "kernelspec": {
   "display_name": "Python 3",
   "language": "python",
   "name": "python3"
  },
  "language_info": {
   "name": "python"
  }
 },
 "nbformat": 4,
 "nbformat_minor": 5
}
